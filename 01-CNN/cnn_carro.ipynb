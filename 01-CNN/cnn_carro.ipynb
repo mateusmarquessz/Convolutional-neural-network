{
  "cells": [
    {
      "cell_type": "code",
      "execution_count": null,
      "metadata": {
        "colab": {
          "base_uri": "https://localhost:8080/"
        },
        "id": "S1sQP9Nau5mY",
        "outputId": "507e26cc-8b3d-4c14-eee3-2b50bfc67f42"
      },
      "outputs": [
        {
          "name": "stdout",
          "output_type": "stream",
          "text": [
            "Mounted at /content/drive\n"
          ]
        }
      ],
      "source": [
        "from google.colab import drive\n",
        "drive.mount('/content/drive')"
      ]
    },
    {
      "cell_type": "code",
      "execution_count": null,
      "metadata": {
        "id": "gy8YuCuBvFDc"
      },
      "outputs": [],
      "source": [
        "import numpy as np\n",
        "import os\n",
        "import random\n",
        "import shutil\n",
        "import matplotlib.pyplot as plt\n",
        "import cv2\n",
        "\n",
        "import tensorflow as tf\n",
        "from tensorflow import keras\n",
        "from tensorflow.keras import layers\n",
        "from tensorflow.keras.utils import image_dataset_from_directory\n",
        "from keras.preprocessing.image import ImageDataGenerator"
      ]
    },
    {
      "cell_type": "code",
      "execution_count": null,
      "metadata": {
        "id": "Vo1kGwR3wSS9"
      },
      "outputs": [],
      "source": [
        "train_directory = '/content/drive/MyDrive/Datasets/carro pronto/train'\n",
        "test_directory = '/content/drive/MyDrive/Datasets/carro pronto/test'\n",
        "val_directory = '/content/drive/MyDrive/Datasets/carro pronto/val'"
      ]
    },
    {
      "cell_type": "code",
      "execution_count": null,
      "metadata": {
        "colab": {
          "base_uri": "https://localhost:8080/"
        },
        "id": "ily67kHWxSkn",
        "outputId": "875096c1-e317-4d9b-9041-eed26705b791"
      },
      "outputs": [
        {
          "name": "stdout",
          "output_type": "stream",
          "text": [
            "4 CATEGORIES are  ['audi a7', 'bmw serie 7', 'dodge charger', 'porsche 911']\n"
          ]
        }
      ],
      "source": [
        "categories = os.listdir(train_directory)\n",
        "print(str(len(categories)),'CATEGORIES are ', categories)\n",
        "\n",
        "category_count = len(categories)"
      ]
    },
    {
      "cell_type": "code",
      "execution_count": null,
      "metadata": {
        "colab": {
          "base_uri": "https://localhost:8080/"
        },
        "id": "lKA2sonRxh_K",
        "outputId": "8ab6bb03-82dd-4824-f2b1-672ad4ca706e"
      },
      "outputs": [
        {
          "name": "stdout",
          "output_type": "stream",
          "text": [
            "Found 4000 images belonging to 4 classes.\n",
            "Found 1000 images belonging to 4 classes.\n",
            "Found 1000 images belonging to 4 classes.\n"
          ]
        }
      ],
      "source": [
        "augmented_gen = ImageDataGenerator(\n",
        "    rescale=1./255)\n",
        "\n",
        "general_datagen = ImageDataGenerator(rescale = 1./255)\n",
        "\n",
        "train_generator = general_datagen.flow_from_directory(\n",
        "    train_directory,\n",
        "    target_size = (224, 224),\n",
        "    batch_size = 16\n",
        ")\n",
        "valid_generator = general_datagen.flow_from_directory(\n",
        "    val_directory,\n",
        "    target_size = (224, 224),\n",
        "    batch_size = 16\n",
        ")\n",
        "test_generator = general_datagen.flow_from_directory(\n",
        "    test_directory,\n",
        "    target_size = (224, 224),\n",
        "    batch_size = 16\n",
        ")"
      ]
    },
    {
      "cell_type": "code",
      "execution_count": null,
      "metadata": {
        "colab": {
          "base_uri": "https://localhost:8080/"
        },
        "id": "1EyX45Lhd6-b",
        "outputId": "d30a6d6c-bb78-430e-9686-2f7f00e99879"
      },
      "outputs": [
        {
          "name": "stdout",
          "output_type": "stream",
          "text": [
            "Train groups: 250\n",
            "Validation groups: 63\n",
            "Test groups: 63\n"
          ]
        }
      ],
      "source": [
        "train_groups = len(train_generator)\n",
        "valid_groups = len(valid_generator)\n",
        "test_groups = len(test_generator)\n",
        "print(f\"Train groups: {train_groups}\")\n",
        "print(f\"Validation groups: {valid_groups}\")\n",
        "print(f\"Test groups: {test_groups}\")"
      ]
    },
    {
      "cell_type": "code",
      "execution_count": null,
      "metadata": {
        "id": "dQxOKRzdev2Q"
      },
      "outputs": [],
      "source": [
        "def conv_layer(inputs, filters, kernel_size=3, padding=\"valid\"):\n",
        "    x = layers.Conv2D(filters = filters, kernel_size = kernel_size, padding = padding, use_bias = False)(inputs)\n",
        "    x = layers.BatchNormalization()(x)\n",
        "    x = layers.Activation(\"relu\")(x)\n",
        "\n",
        "    return x\n",
        "# pooling layer i added dropout cause it help my model to reduce the overfitting\n",
        "def pooling_layer(inputs, pool_size = 2, dropout_rate=0.5):\n",
        "    x = layers.MaxPooling2D(pool_size = pool_size)(inputs)\n",
        "    x = layers.BatchNormalization()(x)\n",
        "    x = layers.Dropout(dropout_rate)(x)\n",
        "\n",
        "    return x\n",
        "\n",
        "# this dense layer i will not only use it for my base model i will use it in the pretrained model too\n",
        "def dense_layer(inputs, out, dropout_rate = 0.5):\n",
        "    x = layers.Dense(out)(inputs)\n",
        "    x = layers.BatchNormalization()(x)\n",
        "    x = layers.Activation(\"relu\")(x)\n",
        "    x = layers.Dropout(dropout_rate)(x)\n",
        "\n",
        "    return x"
      ]
    },
    {
      "cell_type": "code",
      "execution_count": null,
      "metadata": {
        "id": "jh4UIQzNey2e"
      },
      "outputs": [],
      "source": [
        "keras.backend.clear_session()\n",
        "\n",
        "inputs = keras.Input(shape = (224, 224, 3))\n",
        "\n",
        "x = conv_layer(inputs, 64, padding = \"same\")  # 224x224\n",
        "x = conv_layer(x, 64)                         # 222x222\n",
        "x = pooling_layer(x)                          # 111x111\n",
        "\n",
        "x = conv_layer(x, 64, padding = \"same\")       # 111x111\n",
        "x = conv_layer(x, 64)                         # 109x109\n",
        "x = pooling_layer(x)                          # 54x54\n",
        "\n",
        "x = conv_layer(x, 64, padding = \"same\")       # 54x54\n",
        "x = conv_layer(x, 64)                         # 52X52\n",
        "x = pooling_layer(x)                          # 26x26\n",
        "\n",
        "x = conv_layer(x, 64, padding = \"same\")       # 54x54\n",
        "x = conv_layer(x, 64)                         # 52X52\n",
        "x = pooling_layer(x)\n",
        "\n",
        "x = conv_layer(x, 64, padding = \"same\")       # 26x26\n",
        "\n",
        "x = layers.Flatten()(x)                       # 26*26*64\n",
        "\n",
        "x = dense_layer(x, 128)\n",
        "\n",
        "outputs = layers.Dense(category_count, activation = \"softmax\")(x)\n",
        "\n",
        "base_model = keras.Model(inputs, outputs)\n",
        "\n",
        "base_model.summary()"
      ]
    },
    {
      "cell_type": "code",
      "execution_count": null,
      "metadata": {
        "colab": {
          "background_save": true,
          "base_uri": "https://localhost:8080/"
        },
        "id": "Zbbcp5bEe6Zp",
        "outputId": "1d451d33-8fbd-42e6-c56b-0d92143b8272"
      },
      "outputs": [
        {
          "name": "stdout",
          "output_type": "stream",
          "text": [
            "Epoch 1/20\n",
            "250/250 [==============================] - ETA: 0s - loss: 1.4828 - accuracy: 0.3450 "
          ]
        },
        {
          "name": "stderr",
          "output_type": "stream",
          "text": [
            "/usr/local/lib/python3.10/dist-packages/keras/src/engine/training.py:3000: UserWarning: You are saving your model as an HDF5 file via `model.save()`. This file format is considered legacy. We recommend using instead the native Keras format, e.g. `model.save('my_model.keras')`.\n",
            "  saving_api.save_model(\n"
          ]
        },
        {
          "name": "stdout",
          "output_type": "stream",
          "text": [
            "250/250 [==============================] - 3129s 12s/step - loss: 1.4828 - accuracy: 0.3450 - val_loss: 1.4290 - val_accuracy: 0.2500 - lr: 0.0010\n",
            "Epoch 2/20\n",
            "207/250 [=======================>......] - ETA: 7:46 - loss: 1.2023 - accuracy: 0.4973"
          ]
        }
      ],
      "source": [
        "base_model.compile(optimizer =keras.optimizers.Adam(learning_rate=0.001),\n",
        "               loss = 'categorical_crossentropy',\n",
        "               metrics = ['accuracy'])\n",
        "#fit model\n",
        "history = base_model.fit(\n",
        "    train_generator,\n",
        "    steps_per_epoch = train_groups,\n",
        "    epochs = 20, # adding more epochs will increase the acc like 1% or 2%\n",
        "    validation_data = valid_generator,\n",
        "    validation_steps = valid_groups,\n",
        "    verbose = 1,\n",
        "    callbacks=[keras.callbacks.EarlyStopping(monitor='val_accuracy', patience = 3, restore_best_weights = True),\n",
        "               keras.callbacks.ReduceLROnPlateau(monitor = 'val_loss', factor = 0.7, patience = 2, verbose = 1),\n",
        "    keras.callbacks.ModelCheckpoint(\n",
        "            filepath = \"/content/drive/MyDrive/Datasets/carro pronto/intial_model.h5\",\n",
        "            save_best_only = True,\n",
        "            monitor = \"val_loss\")\n",
        "    ])"
      ]
    },
    {
      "cell_type": "code",
      "execution_count": null,
      "metadata": {
        "colab": {
          "base_uri": "https://localhost:8080/"
        },
        "id": "TNHrTppu0uqr",
        "outputId": "c4ec53d3-e1e4-4442-b188-3e6904a5a553"
      },
      "outputs": [
        {
          "name": "stdout",
          "output_type": "stream",
          "text": [
            "63/63 [==============================] - 6s 86ms/step - loss: 0.3644 - accuracy: 0.8690\n",
            "Perda (Loss): 0.3644414246082306\n",
            "Acurácia: 0.8690000176429749\n"
          ]
        }
      ],
      "source": [
        "model = keras.models.load_model(\"/content/drive/MyDrive/Datasets/carro pronto/intial_model.h5\")\n",
        "\n",
        "\n",
        "test_results = model.evaluate(test_generator)\n",
        "\n",
        "\n",
        "loss, accuracy = test_results\n",
        "\n",
        "print(f'Perda (Loss): {loss}')\n",
        "print(f'Acurácia: {accuracy}')"
      ]
    },
    {
      "cell_type": "code",
      "execution_count": null,
      "metadata": {
        "colab": {
          "base_uri": "https://localhost:8080/"
        },
        "id": "sVbt6D-Y04cv",
        "outputId": "daf59e3c-07ce-48f8-da14-c66a4bb7b453"
      },
      "outputs": [
        {
          "name": "stdout",
          "output_type": "stream",
          "text": [
            "63/63 [==============================] - 6s 88ms/step\n",
            "Precisão: 0.241\n"
          ]
        }
      ],
      "source": [
        "predictions = model.predict(test_generator)\n",
        "\n",
        "\n",
        "predicted_classes = np.argmax(predictions, axis=1)\n",
        "\n",
        "\n",
        "true_classes = test_generator.classes\n",
        "\n",
        "\n",
        "from sklearn.metrics import accuracy_score\n",
        "accuracy = accuracy_score(true_classes, predicted_classes)\n",
        "print(f'Precisão: {accuracy}')"
      ]
    },
    {
      "cell_type": "code",
      "execution_count": null,
      "metadata": {
        "colab": {
          "base_uri": "https://localhost:8080/"
        },
        "id": "WSJjFfe608EW",
        "outputId": "956845ef-ed26-4551-8d08-f0815be1b5e9"
      },
      "outputs": [
        {
          "name": "stdout",
          "output_type": "stream",
          "text": [
            "63/63 [==============================] - 5s 72ms/step\n",
            "F1-Score: 0.25610437662882385\n"
          ]
        }
      ],
      "source": [
        "from sklearn.metrics import f1_score\n",
        "import numpy as np\n",
        "\n",
        "\n",
        "predictions = model.predict(test_generator)\n",
        "predicted_classes = np.argmax(predictions, axis=1)\n",
        "\n",
        "\n",
        "true_classes = test_generator.classes\n",
        "\n",
        "\n",
        "f1 = f1_score(true_classes, predicted_classes, average='weighted')\n",
        "\n",
        "print(f'F1-Score: {f1}')"
      ]
    },
    {
      "cell_type": "code",
      "execution_count": null,
      "metadata": {
        "colab": {
          "base_uri": "https://localhost:8080/"
        },
        "id": "kxr0buv_093D",
        "outputId": "ef29cc6d-2d54-478b-a00b-725101617842"
      },
      "outputs": [
        {
          "name": "stdout",
          "output_type": "stream",
          "text": [
            "63/63 [==============================] - 8s 135ms/step\n",
            "Matriz de Confusão:\n",
            "[[73 56 63 58]\n",
            " [71 63 63 53]\n",
            " [68 51 81 50]\n",
            " [59 59 75 57]]\n"
          ]
        }
      ],
      "source": [
        "from sklearn.metrics import confusion_matrix\n",
        "import numpy as np\n",
        "\n",
        "\n",
        "predictions = model.predict(test_generator)\n",
        "predicted_classes = np.argmax(predictions, axis=1)\n",
        "\n",
        "\n",
        "true_classes = test_generator.classes\n",
        "\n",
        "\n",
        "confusion = confusion_matrix(true_classes, predicted_classes)\n",
        "\n",
        "print('Matriz de Confusão:')\n",
        "print(confusion)"
      ]
    }
  ],
  "metadata": {
    "accelerator": "GPU",
    "colab": {
      "provenance": [],
      "gpuType": "T4"
    },
    "kernelspec": {
      "display_name": "Python 3",
      "name": "python3"
    },
    "language_info": {
      "name": "python"
    }
  },
  "nbformat": 4,
  "nbformat_minor": 0
}