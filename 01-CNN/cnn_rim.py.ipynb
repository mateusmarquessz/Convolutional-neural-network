{
  "cells": [
    {
      "cell_type": "code",
      "execution_count": null,
      "metadata": {
        "colab": {
          "base_uri": "https://localhost:8080/"
        },
        "id": "l4XF9vgb5nn2",
        "outputId": "c6ffd61d-f264-4b79-a8e7-cf69381d6f1f"
      },
      "outputs": [
        {
          "name": "stdout",
          "output_type": "stream",
          "text": [
            "Mounted at /content/drive\n"
          ]
        }
      ],
      "source": [
        "from google.colab import drive\n",
        "drive.mount('/content/drive')\n"
      ]
    },
    {
      "cell_type": "code",
      "execution_count": null,
      "metadata": {
        "id": "GPmzwHVgYQfw"
      },
      "outputs": [],
      "source": [
        "import numpy as np\n",
        "import os\n",
        "import random\n",
        "import shutil\n",
        "import matplotlib.pyplot as plt\n",
        "import cv2\n",
        "\n",
        "import tensorflow as tf\n",
        "from tensorflow import keras\n",
        "from tensorflow.keras import layers\n",
        "from tensorflow.keras.utils import image_dataset_from_directory\n",
        "from keras.preprocessing.image import ImageDataGenerator\n"
      ]
    },
    {
      "cell_type": "code",
      "execution_count": null,
      "metadata": {
        "id": "GKfjfzS6YaGN"
      },
      "outputs": [],
      "source": [
        "train_directory = '/content/drive/MyDrive/Datasets/rim/augmented train'\n",
        "test_directory = '/content/drive/MyDrive/Datasets/rim/test'\n",
        "val_directory = '/content/drive/MyDrive/Datasets/rim/val'\n"
      ]
    },
    {
      "cell_type": "code",
      "execution_count": null,
      "metadata": {
        "colab": {
          "base_uri": "https://localhost:8080/"
        },
        "id": "i9cenXCHaDlx",
        "outputId": "13a5bfc4-b905-4607-c032-299ca3680cca"
      },
      "outputs": [
        {
          "name": "stdout",
          "output_type": "stream",
          "text": [
            "4 CATEGORIES are  ['kidney cyst', 'kidney tumor', 'kidney stone', 'kidney normal']\n"
          ]
        }
      ],
      "source": [
        "categories = os.listdir(train_directory)\n",
        "print(str(len(categories)),'CATEGORIES are ', categories)\n",
        "\n",
        "category_count = len(categories)\n"
      ]
    },
    {
      "cell_type": "code",
      "execution_count": null,
      "metadata": {
        "id": "dqEVMJsTbUCb"
      },
      "outputs": [],
      "source": [
        "\n",
        "\n"
      ]
    },
    {
      "cell_type": "code",
      "execution_count": null,
      "metadata": {
        "colab": {
          "base_uri": "https://localhost:8080/"
        },
        "id": "9s461rTtbDnn",
        "outputId": "17afddc4-efcc-4bac-f13c-be60d9076085"
      },
      "outputs": [
        {
          "name": "stdout",
          "output_type": "stream",
          "text": [
            "Found 8005 images belonging to 4 classes.\n",
            "Found 1865 images belonging to 4 classes.\n",
            "Found 1871 images belonging to 4 classes.\n"
          ]
        }
      ],
      "source": [
        "def preprocess_image(image):\n",
        "    if image.shape[-1] == 3:\n",
        "        gray_image = cv2.cvtColor(image, cv2.COLOR_BGR2GRAY)\n",
        "    else:\n",
        "        gray_image = image\n",
        "    return gray_image\n",
        "\n",
        "augmented_gen = ImageDataGenerator(\n",
        "    rescale=1./255,\n",
        "    preprocessing_function=preprocess_image\n",
        ")\n",
        "\n",
        "general_datagen = ImageDataGenerator(\n",
        "    rescale=1./255,\n",
        "    preprocessing_function=preprocess_image\n",
        ")\n",
        "\n",
        "train_generator = general_datagen.flow_from_directory(\n",
        "    train_directory,\n",
        "    target_size=(224, 224),\n",
        "    batch_size=32,\n",
        "    color_mode='grayscale'  # Define o modo de cor como escala de cinza\n",
        ")\n",
        "\n",
        "valid_generator = general_datagen.flow_from_directory(\n",
        "    val_directory,\n",
        "    target_size=(224, 224),\n",
        "    batch_size=32,\n",
        "    color_mode='grayscale'  # Define o modo de cor como escala de cinza\n",
        ")\n",
        "\n",
        "test_generator = general_datagen.flow_from_directory(\n",
        "    test_directory,\n",
        "    target_size=(224, 224),\n",
        "    batch_size=32,\n",
        "    color_mode='grayscale',  # Define o modo de cor como escala de cinza\n",
        "    shuffle=False\n",
        ")\n"
      ]
    },
    {
      "cell_type": "code",
      "execution_count": null,
      "metadata": {
        "id": "S2xcfmJYdxqx"
      },
      "outputs": [],
      "source": [
        "diretorio = \"/content/drive/MyDrive/Datasets/rim/augmented train/kidney tumor\"\n",
        "\n",
        "# Lista de todas as imagens no diretório\n",
        "imagens = os.listdir(diretorio)\n",
        "\n",
        "# Calcula o número de imagens a serem excluídas (metade das imagens)\n",
        "numero_de_imagens_para_excluir = len(imagens)\n",
        "print(numero_de_imagens_para_excluir)\n"
      ]
    },
    {
      "cell_type": "code",
      "execution_count": null,
      "metadata": {
        "colab": {
          "base_uri": "https://localhost:8080/"
        },
        "id": "lN0TbrJrd5xL",
        "outputId": "513a6393-25e9-4627-935f-70848db97e31"
      },
      "outputs": [
        {
          "name": "stdout",
          "output_type": "stream",
          "text": [
            "Train groups: 251\n",
            "Validation groups: 59\n",
            "Test groups: 59\n"
          ]
        }
      ],
      "source": [
        "train_groups = len(train_generator)\n",
        "valid_groups = len(valid_generator)\n",
        "test_groups = len(test_generator)\n",
        "print(f\"Train groups: {train_groups}\")\n",
        "print(f\"Validation groups: {valid_groups}\")\n",
        "print(f\"Test groups: {test_groups}\")"
      ]
    },
    {
      "cell_type": "code",
      "execution_count": null,
      "metadata": {
        "id": "3PVM6ea_eBmd"
      },
      "outputs": [],
      "source": [
        "def conv_layer(inputs, filters, kernel_size=3, padding=\"valid\"):\n",
        "    x = layers.Conv2D(filters = filters, kernel_size = kernel_size, padding = padding, use_bias = False)(inputs)\n",
        "    x = layers.BatchNormalization()(x)\n",
        "    x = layers.Activation(\"relu\")(x)\n",
        "\n",
        "    return x\n",
        "# pooling layer i added dropout cause it help my model to reduce the overfitting\n",
        "def pooling_layer(inputs, pool_size = 2, dropout_rate=0.5):\n",
        "    x = layers.MaxPooling2D(pool_size = pool_size)(inputs)\n",
        "    x = layers.BatchNormalization()(x)\n",
        "    x = layers.Dropout(dropout_rate)(x)\n",
        "\n",
        "    return x\n",
        "\n",
        "# this dense layer i will not only use it for my base model i will use it in the pretrained model too\n",
        "def dense_layer(inputs, out, dropout_rate = 0.5):\n",
        "    x = layers.Dense(out)(inputs)\n",
        "    x = layers.BatchNormalization()(x)\n",
        "    x = layers.Activation(\"relu\")(x)\n",
        "    x = layers.Dropout(dropout_rate)(x)\n",
        "\n",
        "    return x\n"
      ]
    },
    {
      "cell_type": "code",
      "execution_count": null,
      "metadata": {
        "id": "BpKBYkgueEtZ"
      },
      "outputs": [],
      "source": [
        "keras.backend.clear_session()\n",
        "\n",
        "inputs = keras.Input(shape = (224, 224, 1))\n",
        "\n",
        "x = conv_layer(inputs, 64, padding = \"same\")  # 224x224\n",
        "x = conv_layer(x, 64)                         # 222x222\n",
        "x = pooling_layer(x)                          # 111x111\n",
        "\n",
        "x = conv_layer(x, 64, padding = \"same\")       # 111x111\n",
        "x = conv_layer(x, 64)                         # 109x109\n",
        "x = pooling_layer(x)                          # 54x54\n",
        "\n",
        "x = conv_layer(x, 64, padding = \"same\")       # 54x54\n",
        "x = conv_layer(x, 64)                         # 52X52\n",
        "x = pooling_layer(x)                          # 26x26\n",
        "\n",
        "x = conv_layer(x, 64, padding = \"same\")       # 26x26\n",
        "\n",
        "x = layers.Flatten()(x)                       # 26*26*64\n",
        "\n",
        "x = dense_layer(x, 96)\n",
        "\n",
        "outputs = layers.Dense(category_count, activation = \"softmax\")(x)\n",
        "\n",
        "base_model = keras.Model(inputs, outputs)\n",
        "\n",
        "base_model.summary()"
      ]
    },
    {
      "cell_type": "code",
      "execution_count": null,
      "metadata": {
        "colab": {
          "base_uri": "https://localhost:8080/"
        },
        "id": "3rptfe8tfwtb",
        "outputId": "d0bbe75c-e186-43d3-8c85-b7d86f646b27"
      },
      "outputs": [
        {
          "name": "stdout",
          "output_type": "stream",
          "text": [
            "Epoch 1/20\n",
            "251/251 [==============================] - ETA: 0s - loss: 1.0808 - accuracy: 0.5315 "
          ]
        },
        {
          "name": "stderr",
          "output_type": "stream",
          "text": [
            "/usr/local/lib/python3.10/dist-packages/keras/src/engine/training.py:3000: UserWarning: You are saving your model as an HDF5 file via `model.save()`. This file format is considered legacy. We recommend using instead the native Keras format, e.g. `model.save('my_model.keras')`.\n",
            "  saving_api.save_model(\n"
          ]
        },
        {
          "name": "stdout",
          "output_type": "stream",
          "text": [
            "\b\b\b\b\b\b\b\b\b\b\b\b\b\b\b\b\b\b\b\b\b\b\b\b\b\b\b\b\b\b\b\b\b\b\b\b\b\b\b\b\b\b\b\b\b\b\b\b\b\b\b\b\b\b\b\b\b\b\b\b\b\b\b\b\b\b\b\b\b\b\b\b\b\b\b\b\b\b\b\b\b\b\b\b\r251/251 [==============================] - 6649s 26s/step - loss: 1.0808 - accuracy: 0.5315 - val_loss: 3.5394 - val_accuracy: 0.2987 - lr: 0.0010\n",
            "Epoch 2/20\n",
            "251/251 [==============================] - 108s 432ms/step - loss: 0.7633 - accuracy: 0.6756 - val_loss: 2.3595 - val_accuracy: 0.2633 - lr: 0.0010\n",
            "Epoch 3/20\n",
            "251/251 [==============================] - 105s 420ms/step - loss: 0.6213 - accuracy: 0.7484 - val_loss: 0.5873 - val_accuracy: 0.7673 - lr: 0.0010\n",
            "Epoch 4/20\n",
            "251/251 [==============================] - 104s 415ms/step - loss: 0.5201 - accuracy: 0.7916 - val_loss: 1.4173 - val_accuracy: 0.5228 - lr: 0.0010\n",
            "Epoch 5/20\n",
            "251/251 [==============================] - 109s 436ms/step - loss: 0.4437 - accuracy: 0.8274 - val_loss: 0.3485 - val_accuracy: 0.8708 - lr: 0.0010\n",
            "Epoch 6/20\n",
            "251/251 [==============================] - 104s 415ms/step - loss: 0.4091 - accuracy: 0.8442 - val_loss: 0.3898 - val_accuracy: 0.8488 - lr: 0.0010\n",
            "Epoch 7/20\n",
            "251/251 [==============================] - ETA: 0s - loss: 0.3399 - accuracy: 0.8710\n",
            "Epoch 7: ReduceLROnPlateau reducing learning rate to 0.0007000000332482159.\n",
            "251/251 [==============================] - 104s 416ms/step - loss: 0.3399 - accuracy: 0.8710 - val_loss: 1.4976 - val_accuracy: 0.5008 - lr: 0.0010\n",
            "Epoch 8/20\n",
            "251/251 [==============================] - 108s 432ms/step - loss: 0.2577 - accuracy: 0.9051 - val_loss: 0.6073 - val_accuracy: 0.8268 - lr: 7.0000e-04\n",
            "Epoch 9/20\n",
            "251/251 [==============================] - ETA: 0s - loss: 0.2446 - accuracy: 0.9137\n",
            "Epoch 9: ReduceLROnPlateau reducing learning rate to 0.0004900000232737511.\n",
            "251/251 [==============================] - 104s 415ms/step - loss: 0.2446 - accuracy: 0.9137 - val_loss: 0.4396 - val_accuracy: 0.8370 - lr: 7.0000e-04\n",
            "Epoch 10/20\n",
            "251/251 [==============================] - 105s 418ms/step - loss: 0.1896 - accuracy: 0.9353 - val_loss: 0.3603 - val_accuracy: 0.8536 - lr: 4.9000e-04\n",
            "Epoch 11/20\n",
            "251/251 [==============================] - 105s 418ms/step - loss: 0.1671 - accuracy: 0.9453 - val_loss: 0.2571 - val_accuracy: 0.8960 - lr: 4.9000e-04\n",
            "Epoch 12/20\n",
            "251/251 [==============================] - 104s 415ms/step - loss: 0.1471 - accuracy: 0.9529 - val_loss: 0.2686 - val_accuracy: 0.8971 - lr: 4.9000e-04\n",
            "Epoch 13/20\n",
            "251/251 [==============================] - 109s 435ms/step - loss: 0.1582 - accuracy: 0.9472 - val_loss: 0.2207 - val_accuracy: 0.9147 - lr: 4.9000e-04\n",
            "Epoch 14/20\n",
            "251/251 [==============================] - 106s 420ms/step - loss: 0.1391 - accuracy: 0.9518 - val_loss: 0.1786 - val_accuracy: 0.9373 - lr: 4.9000e-04\n",
            "Epoch 15/20\n",
            "251/251 [==============================] - 104s 413ms/step - loss: 0.1247 - accuracy: 0.9580 - val_loss: 0.2391 - val_accuracy: 0.9164 - lr: 4.9000e-04\n",
            "Epoch 16/20\n",
            "251/251 [==============================] - ETA: 0s - loss: 0.1067 - accuracy: 0.9665\n",
            "Epoch 16: ReduceLROnPlateau reducing learning rate to 0.00034300000406801696.\n",
            "251/251 [==============================] - 104s 415ms/step - loss: 0.1067 - accuracy: 0.9665 - val_loss: 0.2427 - val_accuracy: 0.9201 - lr: 4.9000e-04\n",
            "Epoch 17/20\n",
            "251/251 [==============================] - 105s 419ms/step - loss: 0.1099 - accuracy: 0.9633 - val_loss: 0.1334 - val_accuracy: 0.9491 - lr: 3.4300e-04\n",
            "Epoch 18/20\n",
            "251/251 [==============================] - 104s 412ms/step - loss: 0.0882 - accuracy: 0.9709 - val_loss: 0.4377 - val_accuracy: 0.8542 - lr: 3.4300e-04\n",
            "Epoch 19/20\n",
            "251/251 [==============================] - ETA: 0s - loss: 0.0705 - accuracy: 0.9791\n",
            "Epoch 19: ReduceLROnPlateau reducing learning rate to 0.00024009999469853935.\n",
            "251/251 [==============================] - 104s 415ms/step - loss: 0.0705 - accuracy: 0.9791 - val_loss: 0.4517 - val_accuracy: 0.8322 - lr: 3.4300e-04\n",
            "Epoch 20/20\n",
            "251/251 [==============================] - 103s 412ms/step - loss: 0.0598 - accuracy: 0.9834 - val_loss: 0.2233 - val_accuracy: 0.9330 - lr: 2.4010e-04\n"
          ]
        }
      ],
      "source": [
        "base_model.compile(optimizer =keras.optimizers.Adam(learning_rate=0.001),\n",
        "               loss = 'categorical_crossentropy',\n",
        "               metrics = ['accuracy'])\n",
        "#fit model\n",
        "history = base_model.fit(\n",
        "    train_generator,\n",
        "    steps_per_epoch = train_groups,\n",
        "    epochs = 20, # adding more epochs will increase the acc like 1% or 2%\n",
        "    validation_data = valid_generator,\n",
        "    validation_steps = valid_groups,\n",
        "    verbose = 1,\n",
        "    callbacks=[keras.callbacks.EarlyStopping(monitor='val_accuracy', patience = 10, restore_best_weights = True),\n",
        "               keras.callbacks.ReduceLROnPlateau(monitor = 'val_loss', factor = 0.7, patience = 2, verbose = 1),\n",
        "    keras.callbacks.ModelCheckpoint(\n",
        "            filepath = \"/content/drive/MyDrive/Datasets/rim/intial_model.h5\",\n",
        "            save_best_only = True,\n",
        "            monitor = \"val_loss\")\n",
        "    ])"
      ]
    },
    {
      "cell_type": "code",
      "execution_count": null,
      "metadata": {
        "id": "idgFKCt3f5-7"
      },
      "outputs": [],
      "source": [
        "accuracy = history.history[\"accuracy\"]\n",
        "val_accuracy = history.history[\"val_accuracy\"]\n",
        "\n",
        "loss = history.history[\"loss\"]\n",
        "val_loss = history.history[\"val_loss\"]\n",
        "\n",
        "\n",
        "print(accuracy[19])\n",
        "#epochs = range(1, len(accuracy) + 1)\n",
        "\n",
        "#plt.plot(epochs, accuracy, \"bo\", label = \"Trianing accuracy\")\n",
        "#plt.plot(epochs, val_accuracy, \"b-\", label = \"Validation accuracy\")\n",
        "#plt.title(\"Accuracy on training and validation data\")\n",
        "#plt.legend()\n",
        "#plt.figure()\n",
        "\n",
        "#plt.plot(epochs, loss, \"bo\", label = \"Trianing loss\")\n",
        "#plt.plot(epochs, val_loss, \"b-\", label = \"Validation loss\")\n",
        "#plt.title(\"loss on training and validation data\")\n",
        "#plt.title(\"loss on training and validation data\")\n",
        "#plt.legend()\n",
        "#plt.show()"
      ]
    },
    {
      "cell_type": "code",
      "execution_count": null,
      "metadata": {
        "colab": {
          "background_save": true,
          "base_uri": "https://localhost:8080/"
        },
        "id": "Jm19fRlef8v0",
        "outputId": "1050f4f0-c31c-4df6-b30a-4fdbb946e856"
      },
      "outputs": [
        {
          "name": "stdout",
          "output_type": "stream",
          "text": [
            "59/59 [==============================] - 447s 8s/step - loss: 0.1137 - accuracy: 0.9519\n",
            "Perda (Loss): 0.11367297917604446\n",
            "Acurácia: 0.951897382736206\n"
          ]
        }
      ],
      "source": [
        "\n",
        "\n",
        "model = keras.models.load_model(\"/content/drive/MyDrive/Datasets/rim/intial_model.h5\")\n",
        "\n",
        "\n",
        "test_results = model.evaluate(test_generator)\n",
        "\n",
        "\n",
        "loss, accuracy = test_results\n",
        "\n",
        "print(f'Perda (Loss): {loss}')\n",
        "print(f'Acurácia: {accuracy}')"
      ]
    },
    {
      "cell_type": "code",
      "execution_count": 6,
      "metadata": {
        "colab": {
          "base_uri": "https://localhost:8080/"
        },
        "id": "yXLt98kPHpoR",
        "outputId": "eba014d8-77c8-4790-b4e8-ca5e78af8cd9"
      },
      "outputs": [
        {
          "output_type": "stream",
          "name": "stdout",
          "text": [
            "59/59 [==============================] - 306s 5s/step\n",
            "Precisão: 0.9518973810796365\n"
          ]
        }
      ],
      "source": [
        "predictions = model.predict(test_generator)\n",
        "\n",
        "\n",
        "predicted_classes = np.argmax(predictions, axis=1)\n",
        "\n",
        "\n",
        "true_classes = test_generator.classes\n",
        "\n",
        "\n",
        "from sklearn.metrics import accuracy_score\n",
        "accuracy = accuracy_score(true_classes, predicted_classes)\n",
        "print(f'Precisão: {accuracy}')"
      ]
    },
    {
      "cell_type": "code",
      "execution_count": 7,
      "metadata": {
        "colab": {
          "base_uri": "https://localhost:8080/"
        },
        "id": "z6htYwYDwSo4",
        "outputId": "0d31c328-07e7-4dd0-ccd7-f19e22712799"
      },
      "outputs": [
        {
          "output_type": "stream",
          "name": "stdout",
          "text": [
            "59/59 [==============================] - 283s 5s/step\n",
            "F1-Score: 0.9527755078463199\n"
          ]
        }
      ],
      "source": [
        "from sklearn.metrics import f1_score\n",
        "import numpy as np\n",
        "\n",
        "\n",
        "predictions = model.predict(test_generator)\n",
        "predicted_classes = np.argmax(predictions, axis=1)\n",
        "\n",
        "\n",
        "true_classes = test_generator.classes\n",
        "\n",
        "\n",
        "f1 = f1_score(true_classes, predicted_classes, average='weighted')\n",
        "\n",
        "print(f'F1-Score: {f1}')"
      ]
    },
    {
      "cell_type": "code",
      "execution_count": null,
      "metadata": {
        "colab": {
          "base_uri": "https://localhost:8080/"
        },
        "id": "mGE6PxD5x5Un",
        "outputId": "5cc70a86-417f-4a0b-f48b-263ffc01d7b8"
      },
      "outputs": [
        {
          "output_type": "stream",
          "name": "stdout",
          "text": [
            "17/59 [=======>......................] - ETA: 3:21"
          ]
        }
      ],
      "source": [
        "from sklearn.metrics import confusion_matrix\n",
        "import numpy as np\n",
        "\n",
        "\n",
        "predictions = model.predict(test_generator)\n",
        "predicted_classes = np.argmax(predictions, axis=1)\n",
        "\n",
        "\n",
        "true_classes = test_generator.classes\n",
        "\n",
        "\n",
        "confusion = confusion_matrix(true_classes, predicted_classes)\n",
        "\n",
        "print('Matriz de Confusão:')\n",
        "print(confusion)"
      ]
    }
  ],
  "metadata": {
    "accelerator": "GPU",
    "colab": {
      "provenance": []
    },
    "kernelspec": {
      "display_name": "Python 3",
      "name": "python3"
    },
    "language_info": {
      "name": "python"
    }
  },
  "nbformat": 4,
  "nbformat_minor": 0
}